{
  "nbformat": 4,
  "nbformat_minor": 0,
  "metadata": {
    "kernelspec": {
      "display_name": "Python 3",
      "language": "python",
      "name": "python3"
    },
    "language_info": {
      "codemirror_mode": {
        "name": "ipython",
        "version": 3
      },
      "file_extension": ".py",
      "mimetype": "text/x-python",
      "name": "python",
      "nbconvert_exporter": "python",
      "pygments_lexer": "ipython3",
      "version": "3.6.4"
    },
    "colab": {
      "name": "My First Python3 Notebook.ipynb",
      "provenance": []
    }
  },
  "cells": [
    {
      "cell_type": "markdown",
      "metadata": {
        "id": "ltBpumqM-xLc"
      },
      "source": [
        "#  A brief introduction to the GitHub + CoLab + Jupyter + Python ecosystem."
      ]
    },
    {
      "cell_type": "markdown",
      "metadata": {
        "id": "yNqogn4F-xLg"
      },
      "source": [
        "**Python** is a programming language, and this course is all about learning Python to solve problems.  There are lots of ways to use Python.  For example, if you have a Mac, you can open a terminal window (open \"Terminal\" app), type \"python\" at the prompt, and you'll be greeted by a python prompt (it looks like \">>>\").  If you type \"2+2\", Python will output \"4\" -- congratulations!  You've run Python in your terminal.\n",
        "\n",
        "But we're going to use Python in a more interactive and sharable manner -- one that is ideally suited to situations where you want to write blocks of text among blocks of code as you analyze problems and communicate your results.  This is a **Jupyter notebook** -- you're reading a Jupyter notebook right now!  Jupyter notebooks are made of **text blocks** like the one you're reading now, and **code blocks** that contain **code** -- Python code for our course.\n",
        "\n",
        "We are going to work with Jupyter notebooks using a cloud-based collaborative environment called **Google CoLab**.  Hopefully you're looking at this notebook on CoLab right now.  If so, you'll see a orange \"CO\" logo at the top of your browser window, and maybe links to your Google profile too.  By using Google CoLab, you won't have to install any software on your computer.  You'll also be able to work collaboratively (what \"CoLab\" stands for) with your classmates.  You will need an internet connection though.  If you don't have regular internet access, but you do have a reliable computer, you can use **Anaconda** instead to install all the Python packages, Jupyter notebook server, etc. -- all for free.\n",
        "\n",
        "Finally, to save, share, and access all of our Jupyter notebooks, we will use **GitHub** -- specifically GitHub Classroom.  GitHub will allow you to keep track of different versions of files, submit your final work for grading, receive feedback, etc.  And you can keep your notebooks on GitHub in the long term as a portfolio to return to.\n",
        "\n",
        "\n",
        "## Table of Contents\n",
        "\n",
        "1.  [Notebook cells](#cells)\n",
        "2.  [Markdown syntax](#markdown)\n",
        "3.  [Saving, loading, printing](#files)"
      ]
    },
    {
      "cell_type": "markdown",
      "metadata": {
        "id": "jhsOF0hv-xLg"
      },
      "source": [
        "<a id='cells'></a>"
      ]
    },
    {
      "cell_type": "markdown",
      "metadata": {
        "id": "PLYWcR-txvgk"
      },
      "source": [
        "# Starting this assignment\n",
        "\n",
        "If you're reading this, you're off to a good start.  But if you haven't already, you need to officially *accept* this assignment through GitHub Classroom, by going to the [link here](https://classroom.github.com/a/m9fo5LLa).  This assignment is really a *repository* -- basically a directory on GitHub containing the files you need.  When you accept the assignment, GitHub will make a personal copy of this repository, just for you.  A message should tell you where your copy is, typically something like https://github.com/MartysClassroom/your-first-python-notebook-UserName.  \n",
        "\n",
        "You'll be downloading files from this repository, working on them, and uploading them back to the repository.  You could download the directly to your computer from your personal repository.  But instead we will work in Google CoLab.  If you don't have reliable internet access, please see the Using Anaconda section at the bottom of this notebook.\n",
        "\n",
        "To access Google Colab, go to [Google's Colab site](https://colab.research.google.com/), while logged into your Google account.  Note that your UCSC account, accessed with Gold password, provides full access to Google services.  This includes Google Drive for storing files, etc.  \n",
        "\n",
        "Now go into Colab, and go to File...Open Notebook.  Click GitHub from the menu bar.  Then put the github URL (like https://github.com/MartysClassroom/your-first-python-notebook-UserName) at the search line.  Change UserName to your user name!  It should locate this repository.  Note:  You'll have to give Google Colab access to your GitHub account, to load and save files to Github.  Please do so!\n",
        "\n",
        "Finally, if the repository is selected, there should be a file called \"My First Python3 Notebook.ipynb\" there.  That's your personal copy of the notebook, and please click on that to open it.  As you're working on the notebook, go to \"File...Save a copy in GitHub\" to frequently save your work and update your GitHub repository.  Note that when you use Google Colab, you are \"borrowing\" Google's computers -- your work will not be automatically saved.  If you walk away for a few hours, your work might be lost!  So don't forget to save!  \n",
        "\n",
        "Your TA and instructor will be able to see your GitHub repository, in order to provide feedback on your work.  We will grade this assignment for completion."
      ]
    },
    {
      "cell_type": "markdown",
      "metadata": {
        "id": "XMOFA1Pu-xLh"
      },
      "source": [
        "##  Notebook cells"
      ]
    },
    {
      "cell_type": "markdown",
      "metadata": {
        "id": "HV4k6WHq-xLh"
      },
      "source": [
        "Click inside the cell below, in the box to the right of the `In []:` prompt.  A border should appear around the cell, with a green bar at the left, indicating that it's active.  Then press *shift-Enter* (hold down the shift key while pressing the Enter key) on the keyboard to **evaluate** the cell.  "
      ]
    },
    {
      "cell_type": "code",
      "metadata": {
        "id": "vqfo26dp-xLh"
      },
      "source": [
        "2+2"
      ],
      "execution_count": null,
      "outputs": []
    },
    {
      "cell_type": "markdown",
      "metadata": {
        "id": "583qqyPN-xLh"
      },
      "source": [
        "If an output message like `Out[1]:  4` appeared, then everything is working correctly!"
      ]
    },
    {
      "cell_type": "markdown",
      "metadata": {
        "id": "bMstoQHS-xLi"
      },
      "source": [
        "Jupyter notebooks are built out of **cells**.  There are two primary types of cells:  **Markdown cells** and **Code cells**.  Textual content will be contained in Markdown cells like this one.  Programming content will be contained in Code cells, like the `2+2` cell above.\n",
        "\n",
        "If a cell has a green border, that means that you're currently editing it.  If it has a blue border, that means that the cell is selected (and can be cut and pasted, etc.) but not in edit-mode.  Otherwise it is not active.\n",
        "\n",
        "To edit a Code cell, click anywhere within its evaluation box.  For example, you can click inside the `2+2` cell, change the numbers to `2+3` and re-evaluate with *shift-Enter*.  \n",
        "\n",
        "To edit a Markdown cell like this one, double-click anywhere within its body.  You can write Markdown just like any text document, for the most part.  When you're done editing a Markdown cell, press *shift-Enter*.\n",
        "\n",
        "To change a selected cell from Code to Markdown or back again, you should see a dropdown menu with \"Markdown\" or \"Code\" visible, just above your notebook interface.  Just drop down to select the type of the cell.  For practice, select the cell below to a Markdown cell, and write a sentence or two.  Complete it with a *shift-Enter*."
      ]
    },
    {
      "cell_type": "code",
      "metadata": {
        "id": "yJsj5mWv-xLi"
      },
      "source": [
        "#  Change this cell to a Markdown cell, and write something."
      ],
      "execution_count": null,
      "outputs": []
    },
    {
      "cell_type": "markdown",
      "metadata": {
        "id": "16PabYhs-xLi"
      },
      "source": [
        "Now, change the cell below to a Code cell, and use it to compute `999 * 999`."
      ]
    },
    {
      "cell_type": "markdown",
      "metadata": {
        "id": "9-GfXtcz-xLi"
      },
      "source": [
        "(I'm a markdown cell.  Change me to a Code cell and compute `999*999`)"
      ]
    },
    {
      "cell_type": "markdown",
      "metadata": {
        "id": "lsJIt7WJ-xLi"
      },
      "source": [
        "Often you'll want to **insert a new cell** above or below a given cell.  To do this, you need to select the cell in one of the following ways.  Select a Code cell with a single click **outside** of its evaluation box, e.g., click where it says `In [ ]:`.  Select a Markdown cell with a single-click anywhere in its body.\n",
        "\n",
        "If you have selected the cell correctly, a blue border should be visible around it.  Once the blue border is visible, you can add a new cell **above** it by pressing the **a** key on the keyboard.  You can add a new cell **below** it by pressing the **b** key on the keyboard.  Try to add a new cell above and below the Markdown cell below.  The newly created cells are probably Code cells by default.\n",
        "\n",
        "Instead of **a** or **b**, you can also press **x**.  That will delete the cell, so be careful and save often."
      ]
    },
    {
      "cell_type": "markdown",
      "metadata": {
        "id": "0z8DurTw-xLj"
      },
      "source": [
        "(I'm a markdown cell.  Add a new cell above and below me.)"
      ]
    },
    {
      "cell_type": "markdown",
      "metadata": {
        "id": "qdL8-azz-xLj"
      },
      "source": [
        "A quick note:  there are a few **invisible cells** in this notebook, and in other notebooks in the tutorial.  In fact, one of these sneaky cells is just below this one!  It's a Markdown cell, as you will see if you double-click it.  Its content is `<a id='markdown'></a>`, which is a snippet of HTML code.  This is a little placeholder, which enables the links in the table of contents.  Don't change those Markdown cells, unless you want to break the links in the table of contents."
      ]
    },
    {
      "cell_type": "markdown",
      "metadata": {
        "id": "WCiHOg3H-xLj"
      },
      "source": [
        "<a id='markdown'></a>"
      ]
    },
    {
      "cell_type": "markdown",
      "metadata": {
        "id": "WnWNmI_Z-xLj"
      },
      "source": [
        "## Basic Markdown for Jupyter notebooks"
      ]
    },
    {
      "cell_type": "markdown",
      "metadata": {
        "id": "YsvbvwVS-xLj"
      },
      "source": [
        "You will learn more about Python code in the tutorial.  As you are learning, you should experiment in code cells, and write answers to questions and other notes in markdown cells.  Markdown is a neat text-editing language, a sort of shorthand that extends HTML.  Here is a brief guide to typing in Markdown."
      ]
    },
    {
      "cell_type": "markdown",
      "metadata": {
        "id": "n-AvjR3A-xLj"
      },
      "source": [
        "Most of the time, you can type Markdown just like any old text document.  One little difference is that to start a new line, you have to insert an extra empty line in the Markdown.  Double-click this cell to see how the new paragraph was started below.  Press *shift-enter* to stop editing and \"compile\" the Markdown. \n",
        "\n",
        "Markdown has many more features that you'll notice in this document: there are different typefaces, lists, headings, links, and more.  "
      ]
    },
    {
      "cell_type": "markdown",
      "metadata": {
        "id": "PoOaLW2Z-xLj"
      },
      "source": [
        "### Typefaces\n",
        "\n",
        "To change from plain text to *italics* or to **boldface**, you surround the text by asterisks or double-asterisks.  Double-click inside this Markdown cell to see how it was done!  Then insert a new Markdown cell below this one to experiment.  Strictly speaking, the single-asterisks are used to convert to the HTML `<em>` tag, which places emphasis on text.  The double-asterisks convert to the HTML `<strong>` tag, which is often boldfaced.  But different web-browsers behave differently."
      ]
    },
    {
      "cell_type": "markdown",
      "metadata": {
        "id": "1OHYSYBB-xLk"
      },
      "source": [
        "### Lists\n",
        "\n",
        "Often it is useful to make lists.  The two kinds of lists we'll use are numbered lists and unnumbered lists.  These are easy in Markdown.  For a numbered list, just start each new line with a number.  Double-click this cell to see how it was done.\n",
        "\n",
        "1.  This is the first line.\n",
        "2.  This is the second line.\n",
        "3.  This is the third line."
      ]
    },
    {
      "cell_type": "markdown",
      "metadata": {
        "id": "_hhVaj0a-xLk"
      },
      "source": [
        "For an unnumbered (bulleted) list, start each new line with a dash `-` (a few other symbols work too).  Double-click this cell to see how it was done.\n",
        "\n",
        "-  This is the first line.\n",
        "-  This is the second line.\n",
        "-  This is the third line.\n",
        "\n",
        "Now I'm back to ordinary text again."
      ]
    },
    {
      "cell_type": "markdown",
      "metadata": {
        "id": "G1I3avgQ-xLk"
      },
      "source": [
        "You can nest your lists.  But people get too attached to nested hierarchies in their writing and presentations.  Lists have their place, but paragraphs should be more common.  If you must nest a list, double-click this cell to see how it was done, with a bit of indentation.  \n",
        "\n",
        "-  This is the first line.\n",
        "    - This is the first subline within the first line.\n",
        "    - This is the second subline within the first line.\n",
        "-  This is the second line.\n",
        "-  This is the third line.\n",
        "\n",
        "Now I'm back to ordinary text again."
      ]
    },
    {
      "cell_type": "markdown",
      "metadata": {
        "id": "FekzGSfW-xLk"
      },
      "source": [
        "### Headings\n",
        "\n",
        "There are different levels of headings, i.e., headings, subheadings, etc., which typically render as boldface text of different sizes.  To make a top-level heading, a single hashtag `#` is used.  The next level heading is created with a double hashtag `##`, and so on.  Double-click this cell to see how it was done.\n",
        "\n",
        "#  A top-level heading.\n",
        "## The next-level heading.\n",
        "### A third-level heading.\n",
        "#### A fourth-level heading. "
      ]
    },
    {
      "cell_type": "markdown",
      "metadata": {
        "id": "TdXrMz1d-xLl"
      },
      "source": [
        "### Links\n",
        "\n",
        "Finally, we discuss how to insert web-links in your Markdown code.  For example, here is a [link to the course webpage](https://canvas.ucsc.edu/courses/16221).  The general syntax is that the displayed text goes in brackets followed by the URL (web address) in parentheses.  Double-click this cell to see how it was done."
      ]
    },
    {
      "cell_type": "markdown",
      "metadata": {
        "id": "MPDh6y5q-xLl"
      },
      "source": [
        "### Conclusion\n",
        "\n",
        "There is much much more you can do with Markdown.  In fact, Markdown is a superset of HTML, so you can put just about any basic web content in a Markdown cell.  A quick google search will turn up lots of Markdown guides, and it's best to search for Markdown and Jupyter to find a guide for Jupyter's particular flavor of Markdown (which differs a bit from WordPress markdown, for example).  "
      ]
    },
    {
      "cell_type": "markdown",
      "metadata": {
        "collapsed": true,
        "id": "V582NEiD-xLl"
      },
      "source": [
        "<a id='files'></a>"
      ]
    },
    {
      "cell_type": "markdown",
      "metadata": {
        "id": "30nUfnqc-xLl"
      },
      "source": [
        "## Saving, loading, and printing notebooks"
      ]
    },
    {
      "cell_type": "markdown",
      "metadata": {
        "id": "b-Kfmg1p-xLl"
      },
      "source": [
        "You can save, load, and print Jupyter notebooks.  In fact, it's probably a good time to save this notebook since you've edited the markdown so far.  Go to \"File...Save and Checkpoint\" (the File menu just under \"Jupyter\", not the browser File menu!) to save your notebook so far.\n",
        "\n"
      ]
    },
    {
      "cell_type": "markdown",
      "metadata": {
        "id": "Sm1g1ql9-xLl"
      },
      "source": [
        "To open a Python notebook, you can go to \"File...Open\" or you can return to your original Jupyter tab (if it's still there) and browse directories to find notebook files.  But Jupyter must be started to load Python notebooks on your computer.\n",
        "\n",
        "The standard notebook file format is `.ipynb` which stands for \"iPython Notebook\", since Jupyter used to be called iPython.  If you go to \"File...Download as...\", then \"IPython Notebook\" will be the top choice.  You will always be able to reload your notebook and edit it, if you save it as an iPython Notebook.\n",
        "\n",
        "You may also want to save a copy as an `.html` file.  HTML is the code used to render webpages, and so it's good for sharing with anyone with a web browser.  Also, your web browser can probably print the HTML file nicely, so it's a good format for printing.  You can go directly to \"File...Print preview\" to see what the notebook will look like when printed.\n",
        "\n",
        "For turning in assignments, you need to export your notebooks to PDF format.  There are a few approaches to this.  The easiest is if you have TeX installed on your computer.  And you *should* have TeX installed on your computer to type mathematics.  To download and install TeX, go to [TeX Live Homepage](http://www.tug.org/texlive/).  It's free for Windows, Mac, and Linux.  Note that this is a big download and install, so go somewhere with reliable internet access!\n",
        "\n",
        "Once you have TeX installed, you can click on \"File...Download as...\", then \"PDF via LaTeX\".  This will create a pretty PDF file!"
      ]
    },
    {
      "cell_type": "markdown",
      "metadata": {
        "id": "yv96Uc6E-xLl"
      },
      "source": [
        "Now you know more than enough to begin the Python programming notebooks.  **Happy programming**!"
      ]
    },
    {
      "cell_type": "code",
      "metadata": {
        "id": "3qNLEkB6-xLm"
      },
      "source": [
        ""
      ],
      "execution_count": null,
      "outputs": []
    }
  ]
}